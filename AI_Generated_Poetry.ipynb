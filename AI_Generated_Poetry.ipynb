{
  "nbformat": 4,
  "nbformat_minor": 0,
  "metadata": {
    "colab": {
      "provenance": [],
      "authorship_tag": "ABX9TyMG0SVDP5EbcPuwDXonD/HG",
      "include_colab_link": true
    },
    "kernelspec": {
      "name": "python3",
      "display_name": "Python 3"
    },
    "language_info": {
      "name": "python"
    }
  },
  "cells": [
    {
      "cell_type": "markdown",
      "metadata": {
        "id": "view-in-github",
        "colab_type": "text"
      },
      "source": [
        "<a href=\"https://colab.research.google.com/github/Duncan1738/AI-Generated-Poetry/blob/main/AI_Generated_Poetry.ipynb\" target=\"_parent\"><img src=\"https://colab.research.google.com/assets/colab-badge.svg\" alt=\"Open In Colab\"/></a>"
      ]
    },
    {
      "cell_type": "code",
      "execution_count": null,
      "metadata": {
        "id": "CQRIuQr8GUh-"
      },
      "outputs": [],
      "source": [
        "# ========================\n",
        "# 📌 Install Dependencies\n",
        "# ========================\n",
        "!pip install transformers torch\n",
        "\n",
        "# ===========================\n",
        "# 📝 Load GPT-2 for Poetry Generation\n",
        "# ===========================\n",
        "from transformers import pipeline\n",
        "\n",
        "# Load pre-trained GPT-2 text generation model\n",
        "generator = pipeline(\"text-generation\", model=\"gpt2\")\n",
        "\n",
        "# ===========================\n",
        "# 🎭 Generate AI Poetry\n",
        "# ===========================\n",
        "def generate_poetry(prompt, max_length=100):\n",
        "    print(f\"Generating poetry for: {prompt}\\n\")\n",
        "    poem = generator(prompt, max_length=max_length, num_return_sequences=1)[0]['generated_text']\n",
        "    return poem\n",
        "\n",
        "# Example prompt\n",
        "prompt = \"In the twilight sky, the stars begin to sing\"\n",
        "poetry = generate_poetry(prompt)\n",
        "\n",
        "# ===========================\n",
        "# 📜 Display the Generated Poetry\n",
        "# ===========================\n",
        "print(\"\\n🌟 AI-Generated Poetry 🌟\\n\")\n",
        "print(poetry)\n"
      ]
    }
  ]
}